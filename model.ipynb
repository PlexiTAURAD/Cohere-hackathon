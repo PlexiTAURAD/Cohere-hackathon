{
 "cells": [
  {
   "attachments": {},
   "cell_type": "markdown",
   "metadata": {},
   "source": [
    "# AI ASSISTANTS \n",
    "This project has been created for the cohere hackathon hosted by lablab.ai and aims to create an AI Assistant. For this project the AI Assistant acts as customer support for an electronics company"
   ]
  },
  {
   "cell_type": "code",
   "execution_count": null,
   "metadata": {},
   "outputs": [],
   "source": [
    "!pip install cohere"
   ]
  },
  {
   "cell_type": "code",
   "execution_count": 1,
   "metadata": {},
   "outputs": [],
   "source": [
    "# All import statements\n",
    "import cohere\n",
    "import config.py\n",
    "import examples_t\n",
    "from examples_t import classify1\n",
    "from cohere.classify import Example\n",
    "\n",
    "co = cohere.Client(config.apikey)\n",
    "\n"
   ]
  },
  {
   "cell_type": "code",
   "execution_count": 10,
   "metadata": {},
   "outputs": [],
   "source": [
    "### DATA ###\n",
    "warranty_data=[Example(\"No I dont have warranty\", \"N\"), Example(\"I used to but not anymore\", \"N\"), \n",
    "               Example(\"It expired last month\", \"N\"), Example(\"I will in a month\", \"N\"), \n",
    "               Example(\"Yes I do\", \"Y\"), Example(\"Just got it last month\", \"Y\"), Example(\"I do\", \"Y\"), \n",
    "               Example(\"I was planning on getting it next month\", \"N\")]\n",
    "\n",
    "#IMPORTANT VARIABLES\n",
    "final_cat = \"\" #Category chosen by user\n",
    "final_warr = \"\" #If user has warranty\n",
    "final_feel = \"\" #How the user felt"
   ]
  },
  {
   "cell_type": "code",
   "execution_count": 5,
   "metadata": {},
   "outputs": [],
   "source": [
    "# Here we get the response classification\n",
    "first_input = input(\"Enter your Query: \")\n",
    "input = first_input\n",
    "tru_input = [input]\n",
    "response = co.classify(\n",
    "    model = \"large\",\n",
    "    inputs = tru_input,\n",
    "    examples= classify1\n",
    ")\n",
    "list = [] #This list will be used to summarise the whole interaction\n",
    "\n",
    "tru_response = response.classifications[0].prediction #Getting the prediction with the highest confidence\n",
    "list.append(tru_response) "
   ]
  },
  {
   "cell_type": "code",
   "execution_count": 11,
   "metadata": {},
   "outputs": [],
   "source": [
    "a = tru_input\n",
    "tec_gen = \"\"\n",
    "def gen():\n",
    "    global tec_gen\n",
    "    tec_gen = co.generate(\n",
    "        model = \"command-xlarge-nightly\",\n",
    "        prompt = a[0],        \n",
    "        max_tokens=300,\n",
    "        stop_sequences= ['--'],\n",
    "        temperature=0.9,\n",
    "        num_generations= 1)\n",
    "    "
   ]
  },
  {
   "cell_type": "code",
   "execution_count": 10,
   "metadata": {},
   "outputs": [],
   "source": [
    "if list[0] == '0' or list[0] == '1':\n",
    "    global tec_gen\n",
    "    tec_gen = co.generate(\n",
    "        model = \"command-xlarge-nightly\",\n",
    "        prompt = a[0],        \n",
    "        max_tokens=300,\n",
    "        stop_sequences= ['--'],\n",
    "        temperature=0.9,\n",
    "        num_generations= 1)\n",
    "elif list[0] == '4' or list[0] == '3':\n",
    "    print(\"Thankyou for connecting, based on your query we will now connect you to an agent who will further assist you\")\n",
    "elif list[0] == '5':\n",
    "    warranty_input = input(\"Do you have warranty?\")\n",
    "    warranty = co.classify(\n",
    "    model='large',\n",
    "    inputs= warranty_input,\n",
    "    examples= warranty_data\n",
    "    )\n",
    "    if warranty == 0: # 0 means the user doesnt have any warranty\n",
    "        print(\"That's okay. You can visit our stores to get your device repaired, I will connect you to an agent to calculate the cost\")\n",
    "        final_warr = \"The user does not have warranty\"\n",
    "    else:\n",
    "        print(\"Alright, you can come to our store or get a repairman to visit you and get your device repaired free of cost\")\n",
    "        final_warr = \"The user has warranty\"\n",
    "elif list[0] == '6':\n",
    "    response = co.classify(\n",
    "    model='large',\n",
    "    inputs= [input],\n",
    "    examples=[Example(\"Great product, I loved it\", \"8\"), Example(\"Thankyou for being so awesome\", \"8\"), Example(\"Absolute trash\", \"9\"), Example(\"This really sucked\", \"9\"), Example(\"I hope your company burns\", \"9\"),]\n",
    "    )\n",
    "    feelings = response.classifications[0].prediction\n",
    "    if feelings == 8:\n",
    "        print(\"Thankyou for your valuable feedback! We will ensure you continue to recieve quality products from us!\")\n",
    "        final_feel = \"The user is happy with the company\"\n",
    "    else:\n",
    "        print(\"We are sorry to hear that, please contact us at greivances@lenuwu.com with more details\")\n",
    "        final_feel = \"The user is unhappy with the company\""
   ]
  },
  {
   "cell_type": "code",
   "execution_count": 9,
   "metadata": {},
   "outputs": [
    {
     "name": "stdout",
     "output_type": "stream",
     "text": [
      "['0']\n",
      "The user contacted the Technical support department\n"
     ]
    }
   ],
   "source": [
    "#implementation of text map   \n",
    "category = \"\"\n",
    "response_map = {'0': \"Technical support\", '1': \"Product information\", '2': \"Order Inquiries\", '3': \"Returns and Exchanges\", '4': \"Billing and account issues\", '5': \"Warranty and repair\", '6':\"Complaints and feedback\"}\n",
    "print(list)\n",
    "for i in list:\n",
    "    category = response_map.get(i, \"\")\n",
    "    final_cat = \"The user contacted the \" + category + \" department\"\n"
   ]
  },
  {
   "attachments": {},
   "cell_type": "markdown",
   "metadata": {},
   "source": [
    "# ANALYSIS\n",
    "Here we see the summary of the interaction"
   ]
  },
  {
   "cell_type": "code",
   "execution_count": null,
   "metadata": {},
   "outputs": [],
   "source": [
    "print(final_cat + final_warr + final_feel)\n"
   ]
  }
 ],
 "metadata": {
  "kernelspec": {
   "display_name": "Python 3",
   "language": "python",
   "name": "python3"
  },
  "language_info": {
   "codemirror_mode": {
    "name": "ipython",
    "version": 3
   },
   "file_extension": ".py",
   "mimetype": "text/x-python",
   "name": "python",
   "nbconvert_exporter": "python",
   "pygments_lexer": "ipython3",
   "version": "3.10.9"
  },
  "orig_nbformat": 4,
  "vscode": {
   "interpreter": {
    "hash": "f57eff65cd2e8ce4ad4e13288215a07bdc69c88fff6c395bf61416a9e906d3ee"
   }
  }
 },
 "nbformat": 4,
 "nbformat_minor": 2
}
